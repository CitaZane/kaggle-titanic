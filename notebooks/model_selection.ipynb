{
 "cells": [
  {
   "attachments": {},
   "cell_type": "markdown",
   "metadata": {},
   "source": [
    "# Model Selection"
   ]
  },
  {
   "attachments": {},
   "cell_type": "markdown",
   "metadata": {},
   "source": [
    "## Imports and reading data"
   ]
  },
  {
   "cell_type": "code",
   "execution_count": 359,
   "metadata": {},
   "outputs": [],
   "source": [
    "#imports\n",
    "import sys\n",
    "sys.path.append('..')\n",
    "\n",
    "import importlib\n",
    "import pandas as pd\n",
    "import numpy as np\n",
    "import scripts.preprocess as pre\n",
    "import scripts.model_selection as ms\n",
    "\n",
    "from sklearn.ensemble import GradientBoostingClassifier\n",
    "from sklearn.neighbors import KNeighborsClassifier\n",
    "from sklearn.linear_model import LogisticRegression\n",
    "from sklearn.svm import SVC\n",
    "from sklearn.ensemble import RandomForestClassifier\n",
    "from sklearn.preprocessing import StandardScaler\n",
    "\n",
    "\n",
    "from sklearn.pipeline import Pipeline"
   ]
  },
  {
   "cell_type": "code",
   "execution_count": 360,
   "metadata": {},
   "outputs": [
    {
     "data": {
      "text/plain": [
       "<module 'scripts.model_selection' from '/home/cita_zane/Documents/kood_johvi/ai/kaggle-titanic/notebooks/../scripts/model_selection.py'>"
      ]
     },
     "execution_count": 360,
     "metadata": {},
     "output_type": "execute_result"
    }
   ],
   "source": [
    "# reload after changing files\n",
    "importlib.reload(pre)\n",
    "importlib.reload(ms)"
   ]
  },
  {
   "cell_type": "code",
   "execution_count": 361,
   "metadata": {},
   "outputs": [],
   "source": [
    "# fetch data and preproces\n",
    "data = pre.get_data('../data/train.csv')\n",
    "X, y = pre.preprocess(data)\n"
   ]
  },
  {
   "cell_type": "code",
   "execution_count": 362,
   "metadata": {},
   "outputs": [],
   "source": [
    "# calculate base model accuracy scores based on cross validation (5 models)\n",
    "baseline = ms.cross_validate_models(X,y)"
   ]
  },
  {
   "cell_type": "code",
   "execution_count": 363,
   "metadata": {},
   "outputs": [],
   "source": [
    "# save base scores in Dataframe and add extra column for upgraded scores\n",
    "upgraded = pd.Series(data={'lg':0, 'rf':0, 'knn': 0, 'svc':0, 'gb':0})\n",
    "model_scores = pd.DataFrame({\"baseline\":baseline,\"upgraded\":upgraded})"
   ]
  },
  {
   "attachments": {},
   "cell_type": "markdown",
   "metadata": {},
   "source": [
    "### Logistic Regression"
   ]
  },
  {
   "cell_type": "code",
   "execution_count": 364,
   "metadata": {},
   "outputs": [
    {
     "name": "stdout",
     "output_type": "stream",
     "text": [
      "Params:  {'lg__C': 1.0, 'lg__class_weight': None, 'lg__max_iter': 10000, 'lg__solver': 'lbfgs'}\n"
     ]
    }
   ],
   "source": [
    "# logistic regression CV\n",
    "lr = Pipeline([('scaler', StandardScaler()),\n",
    "               ('lg', LogisticRegression())])\n",
    "lr_params = {'lg__solver': ['lbfgs', 'liblinear', 'saga'],\n",
    "            'lg__C':np.logspace(0, 4, num=10),\n",
    "            'lg__class_weight':['balanced', None],\n",
    "            'lg__max_iter':[10000]}\n",
    "lg_updated_score,lg_best_model = ms.grid_search(lr,lr_params,X,y)\n"
   ]
  },
  {
   "cell_type": "code",
   "execution_count": 365,
   "metadata": {},
   "outputs": [],
   "source": [
    "model_scores.loc['lg','upgraded'] = lg_updated_score"
   ]
  },
  {
   "attachments": {},
   "cell_type": "markdown",
   "metadata": {},
   "source": [
    "### KNN"
   ]
  },
  {
   "cell_type": "code",
   "execution_count": 366,
   "metadata": {},
   "outputs": [
    {
     "name": "stdout",
     "output_type": "stream",
     "text": [
      "Params:  {'knn__leaf_size': 1, 'knn__n_neighbors': 9, 'knn__p': 1, 'knn__weights': 'uniform'}\n"
     ]
    }
   ],
   "source": [
    "knn = Pipeline([('scaler', StandardScaler()),\n",
    "               ('knn',KNeighborsClassifier())])\n",
    "knn_params = {'knn__n_neighbors': [1,3, 5, 7, 9,10,12,14,18,20],\n",
    "            'knn__weights':['uniform','distance'],\n",
    "            'knn__p':[1,2,3],\n",
    "            'knn__leaf_size':list(range(1,50,5))}\n",
    "\n",
    "knn_updated_score,knn_best_model = ms.grid_search(knn,knn_params,X,y)"
   ]
  },
  {
   "cell_type": "code",
   "execution_count": 367,
   "metadata": {},
   "outputs": [],
   "source": [
    "model_scores.loc['knn','upgraded'] = knn_updated_score"
   ]
  },
  {
   "attachments": {},
   "cell_type": "markdown",
   "metadata": {},
   "source": [
    "### SVC"
   ]
  },
  {
   "cell_type": "code",
   "execution_count": 368,
   "metadata": {},
   "outputs": [
    {
     "name": "stdout",
     "output_type": "stream",
     "text": [
      "Params:  {'svc__C': 10, 'svc__class_weight': None, 'svc__degree': 1, 'svc__gamma': 0.01, 'svc__kernel': 'rbf'}\n"
     ]
    }
   ],
   "source": [
    "svc = Pipeline([('scaler', StandardScaler()),\n",
    "               ('svc',SVC())])\n",
    "svc_params = {'svc__C': [0.1, 1, 10, 100, 1000],\n",
    "            'svc__kernel':['rbf','sigmoid'],\n",
    "            'svc__degree':[1,3,5],\n",
    "            'svc__gamma':[1, 0.1, 0.01, 0.001, 0.0001],\n",
    "            'svc__class_weight':['balanced', None]}\n",
    "svc_updated_score,svc_best_model = ms.grid_search(svc,svc_params,X,y)"
   ]
  },
  {
   "cell_type": "code",
   "execution_count": 369,
   "metadata": {},
   "outputs": [],
   "source": [
    "model_scores.loc['svc','upgraded'] = svc_updated_score"
   ]
  },
  {
   "attachments": {},
   "cell_type": "markdown",
   "metadata": {},
   "source": [
    "### Random Forest Classifier\n",
    "**For tree like structures there are a lot of possible parameters. To narrow down the search first perform randomized search, and after that based on best params narrow them down for gridsearch*"
   ]
  },
  {
   "cell_type": "code",
   "execution_count": 370,
   "metadata": {},
   "outputs": [],
   "source": [
    "#rf = RandomForestClassifier()"
   ]
  },
  {
   "cell_type": "code",
   "execution_count": 371,
   "metadata": {},
   "outputs": [],
   "source": [
    "# rf_wide_params = {\n",
    "#     'n_estimators':[10,100,200,500],\n",
    "#     'criterion':['gini','entropy','log_loss'],\n",
    "#     'max_depth':[10,50,None],\n",
    "#     'min_samples_split': [2, 5, 10],\n",
    "#     'min_samples_leaf': [1, 2, 4],\n",
    "#     'max_features':['sqrt', 'log2',None]\n",
    "# }\n",
    "# rf_test_score = ms.randomize_search(rf,rf_wide_params,X,y)"
   ]
  },
  {
   "cell_type": "code",
   "execution_count": 372,
   "metadata": {},
   "outputs": [],
   "source": [
    "# rf_test_score"
   ]
  },
  {
   "cell_type": "code",
   "execution_count": 373,
   "metadata": {},
   "outputs": [],
   "source": [
    "# rf_params = {\n",
    "#     'n_estimators':[70,100,150],\n",
    "#     'criterion':['log_loss'],\n",
    "#     'max_depth':[None,50],\n",
    "#     'min_samples_split': [5,10,15],\n",
    "#     'min_samples_leaf': [4],\n",
    "#     'max_features':[ None]\n",
    "# }\n",
    "# rf_updated_score,rf_best_model = ms.grid_search(rf,rf_params,X,y)"
   ]
  },
  {
   "cell_type": "code",
   "execution_count": 374,
   "metadata": {},
   "outputs": [],
   "source": [
    "# model_scores.loc['rf','upgraded'] = rf_updated_score"
   ]
  },
  {
   "attachments": {},
   "cell_type": "markdown",
   "metadata": {},
   "source": [
    "### Gradient Boosting\n",
    "*GridSearch takes a long time. Suggest to skip it when doing audit*"
   ]
  },
  {
   "cell_type": "code",
   "execution_count": 375,
   "metadata": {},
   "outputs": [],
   "source": [
    "# gb = GradientBoostingClassifier()"
   ]
  },
  {
   "cell_type": "code",
   "execution_count": 376,
   "metadata": {},
   "outputs": [],
   "source": [
    "# gb_wide_params = {\n",
    "#     'n_estimators':[10,100,200,500],\n",
    "#     'criterion':['friedman_mse','squared_error'],\n",
    "#     'loss':['log_loss','exponential'],\n",
    "#     'learning_rate': [0.001, 0.01, 0.1,0.5],\n",
    "#     'subsample': [0.1, 0.2,0.5,0.7,0.9],\n",
    "#     'min_samples_split': [2, 5, 10],\n",
    "#     'min_samples_leaf': [1, 2, 4],\n",
    "#     'max_depth':[None, 1,3,5],\n",
    "#     'warm_start':[True,False]\n",
    "# }\n",
    "# gb_test_score = ms.randomize_search(gb,gb_wide_params,X,y)\n",
    "# gb_test_score"
   ]
  },
  {
   "cell_type": "code",
   "execution_count": 377,
   "metadata": {},
   "outputs": [],
   "source": [
    "# gb_params = {\n",
    "#     'n_estimators':[50,100,150],\n",
    "#     'criterion':['squared_error'],\n",
    "#     'loss':['exponential'],\n",
    "#     'learning_rate': [ 0.01, 0.1,],\n",
    "#     'subsample': [0.5,0.7],\n",
    "#     'min_samples_split': [2,5, 10,],\n",
    "#     'min_samples_leaf': [1, 2],\n",
    "#     'max_depth':[None,5],\n",
    "#     'warm_start':[False, True]\n",
    "# }\n",
    "# gb_updated_score, gb_best_model = ms.grid_search(gb,gb_params,X,y)"
   ]
  },
  {
   "cell_type": "code",
   "execution_count": 378,
   "metadata": {},
   "outputs": [],
   "source": [
    "# model_scores.loc['gb','upgraded'] = gb_updated_score"
   ]
  },
  {
   "attachments": {},
   "cell_type": "markdown",
   "metadata": {},
   "source": [
    "### Performance - Accuracy"
   ]
  },
  {
   "cell_type": "code",
   "execution_count": 379,
   "metadata": {},
   "outputs": [
    {
     "data": {
      "text/html": [
       "<div>\n",
       "<style scoped>\n",
       "    .dataframe tbody tr th:only-of-type {\n",
       "        vertical-align: middle;\n",
       "    }\n",
       "\n",
       "    .dataframe tbody tr th {\n",
       "        vertical-align: top;\n",
       "    }\n",
       "\n",
       "    .dataframe thead th {\n",
       "        text-align: right;\n",
       "    }\n",
       "</style>\n",
       "<table border=\"1\" class=\"dataframe\">\n",
       "  <thead>\n",
       "    <tr style=\"text-align: right;\">\n",
       "      <th></th>\n",
       "      <th>baseline</th>\n",
       "      <th>upgraded</th>\n",
       "    </tr>\n",
       "  </thead>\n",
       "  <tbody>\n",
       "    <tr>\n",
       "      <th>lg</th>\n",
       "      <td>0.813318</td>\n",
       "      <td>0.829021</td>\n",
       "    </tr>\n",
       "    <tr>\n",
       "      <th>rf</th>\n",
       "      <td>0.802082</td>\n",
       "      <td>0.000000</td>\n",
       "    </tr>\n",
       "    <tr>\n",
       "      <th>knn</th>\n",
       "      <td>0.802082</td>\n",
       "      <td>0.847019</td>\n",
       "    </tr>\n",
       "    <tr>\n",
       "      <th>svc</th>\n",
       "      <td>0.802063</td>\n",
       "      <td>0.844769</td>\n",
       "    </tr>\n",
       "    <tr>\n",
       "      <th>gb</th>\n",
       "      <td>0.822339</td>\n",
       "      <td>0.000000</td>\n",
       "    </tr>\n",
       "  </tbody>\n",
       "</table>\n",
       "</div>"
      ],
      "text/plain": [
       "     baseline  upgraded\n",
       "lg   0.813318  0.829021\n",
       "rf   0.802082  0.000000\n",
       "knn  0.802082  0.847019\n",
       "svc  0.802063  0.844769\n",
       "gb   0.822339  0.000000"
      ]
     },
     "execution_count": 379,
     "metadata": {},
     "output_type": "execute_result"
    }
   ],
   "source": [
    "model_scores"
   ]
  },
  {
   "attachments": {},
   "cell_type": "markdown",
   "metadata": {},
   "source": [
    "### Predict"
   ]
  },
  {
   "cell_type": "code",
   "execution_count": 380,
   "metadata": {},
   "outputs": [],
   "source": [
    "data = pre.get_data('../data/test.csv')\n",
    "X_test, _ = pre.preprocess(data,True)"
   ]
  },
  {
   "cell_type": "code",
   "execution_count": 381,
   "metadata": {},
   "outputs": [],
   "source": [
    "X_test = pre.find_missing_cols(X_test,X)"
   ]
  },
  {
   "cell_type": "code",
   "execution_count": 382,
   "metadata": {},
   "outputs": [],
   "source": [
    "#predict on the model\n",
    "y_pred = svc_best_model.predict(X_test)"
   ]
  },
  {
   "cell_type": "code",
   "execution_count": 383,
   "metadata": {},
   "outputs": [],
   "source": [
    "# save prediction for sumbission\n",
    "temp = pd.DataFrame(pd.read_csv(\"../data/test.csv\")['PassengerId'])\n",
    "temp['Survived'] = y_pred\n",
    "temp.to_csv(\"../solutions/submission_svc_15.csv\", index = False)"
   ]
  }
 ],
 "metadata": {
  "kernelspec": {
   "display_name": "titanic",
   "language": "python",
   "name": "python3"
  },
  "language_info": {
   "codemirror_mode": {
    "name": "ipython",
    "version": 3
   },
   "file_extension": ".py",
   "mimetype": "text/x-python",
   "name": "python",
   "nbconvert_exporter": "python",
   "pygments_lexer": "ipython3",
   "version": "3.11.2"
  },
  "orig_nbformat": 4
 },
 "nbformat": 4,
 "nbformat_minor": 2
}
